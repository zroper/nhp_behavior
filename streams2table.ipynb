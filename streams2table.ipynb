{
 "cells": [
  {
   "cell_type": "code",
   "execution_count": 21,
   "metadata": {},
   "outputs": [],
   "source": [
    "import os\n",
    "import numpy\n",
    "import csv"
   ]
  },
  {
   "cell_type": "code",
   "execution_count": 54,
   "metadata": {},
   "outputs": [],
   "source": [
    "with open('out.csv') as csvfile:\n",
    "    data = csv.reader(csvfile, delimiter = ',')\n",
    "    events = []\n",
    "    times = []\n",
    "    for row in data:\n",
    "        event = row[0]\n",
    "        events.append(event)\n",
    "        time = row[1]\n",
    "        times.append(time)"
   ]
  },
  {
   "cell_type": "code",
   "execution_count": 73,
   "metadata": {},
   "outputs": [
    {
     "name": "stdout",
     "output_type": "stream",
     "text": [
      " 11.0469\n",
      " 203.8456\n",
      " 400.2447\n",
      " 606.6422\n",
      " 779.6449\n",
      " 945.4428\n",
      " 1119.8423\n",
      " 1391.2433\n",
      " 1685.6392\n",
      " 2562.0398\n"
     ]
    }
   ],
   "source": [
    "for i in range(10):\n",
    "    print(TOtimes[i])"
   ]
  },
  {
   "cell_type": "code",
   "execution_count": 97,
   "metadata": {},
   "outputs": [],
   "source": [
    "TargetOnset = []\n",
    "Saccade = []\n",
    "for i, x in enumerate(events):\n",
    "    if x == '2651':\n",
    "        TargetOnset.append(i)\n",
    "    if x == '888':\n",
    "        Saccade.append(i)"
   ]
  },
  {
   "cell_type": "code",
   "execution_count": 98,
   "metadata": {},
   "outputs": [
    {
     "data": {
      "text/plain": [
       "1122"
      ]
     },
     "execution_count": 98,
     "metadata": {},
     "output_type": "execute_result"
    }
   ],
   "source": [
    "len(TargetOnset)"
   ]
  },
  {
   "cell_type": "code",
   "execution_count": 68,
   "metadata": {},
   "outputs": [
    {
     "data": {
      "text/plain": [
       "1097"
      ]
     },
     "execution_count": 68,
     "metadata": {},
     "output_type": "execute_result"
    }
   ],
   "source": [
    "len(Saccade)"
   ]
  },
  {
   "cell_type": "code",
   "execution_count": 71,
   "metadata": {},
   "outputs": [],
   "source": [
    "TOtimes = []\n",
    "for items in TargetOnset:\n",
    "    TOtimes.append(times[items])"
   ]
  },
  {
   "cell_type": "code",
   "execution_count": 108,
   "metadata": {},
   "outputs": [],
   "source": [
    "Trials = []\n",
    "for i, x in enumerate(TargetOnset):\n",
    "    if i < len(TargetOnset)-1:\n",
    "        a = TargetOnset[i]\n",
    "        b = TargetOnset[i+1]-1\n",
    "        Trials.append(events[a:b])\n",
    "    else:\n",
    "        a = TargetOnset[i]\n",
    "        Trials.append(events[a:])"
   ]
  },
  {
   "cell_type": "code",
   "execution_count": 109,
   "metadata": {},
   "outputs": [
    {
     "name": "stdout",
     "output_type": "stream",
     "text": [
      "['2651', '0', '2300', '0', '2810', '0', '888', '0', '2600', '0', '2001', '777', '0', '2727', '1667', '2998', '3999', '4001', '0', '4052', '4060', '4101', '4152', '4201', '0', '4258', '4300', '4350', '4400', '5090', '0', '5635', '3800', '4650', '4664', '4672', '0', '4700', '4800', '4917', '6000', '3007', '0', '3200', '5000', '11000', '3100', '3600', '0', '3100', '3030', '4500', '4000', '4500', '0', '4000', '4690', '4790', '2999', '0']\n"
     ]
    }
   ],
   "source": [
    "print(Trials[1121])"
   ]
  },
  {
   "cell_type": "code",
   "execution_count": null,
   "metadata": {
    "collapsed": true
   },
   "outputs": [],
   "source": []
  }
 ],
 "metadata": {
  "kernelspec": {
   "display_name": "Python 3",
   "language": "python",
   "name": "python3"
  },
  "language_info": {
   "codemirror_mode": {
    "name": "ipython",
    "version": 3
   },
   "file_extension": ".py",
   "mimetype": "text/x-python",
   "name": "python",
   "nbconvert_exporter": "python",
   "pygments_lexer": "ipython3",
   "version": "3.5.2"
  }
 },
 "nbformat": 4,
 "nbformat_minor": 2
}
