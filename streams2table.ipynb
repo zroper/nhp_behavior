{
 "cells": [
  {
   "cell_type": "code",
   "execution_count": 113,
   "metadata": {},
   "outputs": [],
   "source": [
    "import os\n",
    "import numpy\n",
    "import csv"
   ]
  },
  {
   "cell_type": "code",
   "execution_count": 114,
   "metadata": {},
   "outputs": [],
   "source": [
    "with open('out.csv') as csvfile:\n",
    "    data = csv.reader(csvfile, delimiter = ',')\n",
    "    events = []\n",
    "    times = []\n",
    "    for row in data:\n",
    "        event = row[0]\n",
    "        events.append(event)\n",
    "        time = row[1]\n",
    "        times.append(time)"
   ]
  },
  {
   "cell_type": "code",
   "execution_count": 115,
   "metadata": {},
   "outputs": [],
   "source": [
    "TargetOnset = []\n",
    "FixOnset = []\n",
    "Saccade = []\n",
    "for i, x in enumerate(events):\n",
    "    if x == '2301':\n",
    "        FixOnset.append(i)\n",
    "    if x == '2651':\n",
    "        TargetOnset.append(i)\n",
    "    if x == '888':\n",
    "        Saccade.append(i)"
   ]
  },
  {
   "cell_type": "code",
   "execution_count": 116,
   "metadata": {},
   "outputs": [
    {
     "data": {
      "text/plain": [
       "587"
      ]
     },
     "execution_count": 116,
     "metadata": {},
     "output_type": "execute_result"
    }
   ],
   "source": [
    "len(TargetOnset)"
   ]
  },
  {
   "cell_type": "code",
   "execution_count": 117,
   "metadata": {},
   "outputs": [
    {
     "data": {
      "text/plain": [
       "556"
      ]
     },
     "execution_count": 117,
     "metadata": {},
     "output_type": "execute_result"
    }
   ],
   "source": [
    "len(Saccade)"
   ]
  },
  {
   "cell_type": "code",
   "execution_count": 118,
   "metadata": {},
   "outputs": [],
   "source": [
    "TOtimes = []\n",
    "for items in TargetOnset:\n",
    "    TOtimes.append(times[items])"
   ]
  },
  {
   "cell_type": "code",
   "execution_count": 197,
   "metadata": {},
   "outputs": [],
   "source": [
    "Trials = []\n",
    "for i, x in enumerate(FixOnset):\n",
    "    if i < len(FixOnset)-1:\n",
    "        a = FixOnset[i]\n",
    "        b = FixOnset[i+1]-1\n",
    "        Trials.append(events[a:b])\n",
    "    else:\n",
    "        a = FixOnset[i]\n",
    "        Trials.append(events[a:])"
   ]
  },
  {
   "cell_type": "code",
   "execution_count": 126,
   "metadata": {},
   "outputs": [
    {
     "name": "stdout",
     "output_type": "stream",
     "text": [
      "['2301', '2660', '0', '2651', '0', '2300', '0', '2810', '0', '888', '0', '2600', '0', '2001', '777', '0', '2727', '1667', '2998', '3999', '4001', '0', '4052', '4060', '4108', '4152', '4201', '0', '4258', '4300', '4350', '4400', '5090', '0', '5635', '3800', '4650', '4663', '4673', '0', '4700', '4800', '4909', '6000', '3007', '0', '3200', '5000', '11000', '3100', '3600', '0', '3100', '3030', '4500', '4000', '4500', '0', '4000', '4690', '4790', '2999', '0']\n"
     ]
    }
   ],
   "source": [
    "print(Trials[884])"
   ]
  },
  {
   "cell_type": "code",
   "execution_count": 135,
   "metadata": {},
   "outputs": [],
   "source": [
    "path = os.getcwd()\n",
    "csvfile = (path+\"/table.csv\")\n",
    "with open(csvfile, \"w\") as output:\n",
    "    writer = csv.writer(output, lineterminator='\\n')\n",
    "    writer.writerows(Trials)"
   ]
  },
  {
   "cell_type": "code",
   "execution_count": 203,
   "metadata": {},
   "outputs": [],
   "source": [
    "outcome = [None]*len(Trials)\n",
    "for i, trial in enumerate(Trials):\n",
    "    if '2600' in trial:\n",
    "        outcome[i] = 1\n",
    "    else:\n",
    "        outcome[i] = 0    "
   ]
  },
  {
   "cell_type": "code",
   "execution_count": 139,
   "metadata": {},
   "outputs": [
    {
     "data": {
      "text/plain": [
       "885"
      ]
     },
     "execution_count": 139,
     "metadata": {},
     "output_type": "execute_result"
    }
   ],
   "source": [
    "numtrial"
   ]
  },
  {
   "cell_type": "code",
   "execution_count": 188,
   "metadata": {},
   "outputs": [],
   "source": [
    "outcome[0] = 1"
   ]
  },
  {
   "cell_type": "code",
   "execution_count": 204,
   "metadata": {},
   "outputs": [
    {
     "data": {
      "text/plain": [
       "500"
      ]
     },
     "execution_count": 204,
     "metadata": {},
     "output_type": "execute_result"
    }
   ],
   "source": [
    "sum(outcome)"
   ]
  },
  {
   "cell_type": "code",
   "execution_count": null,
   "metadata": {
    "collapsed": true
   },
   "outputs": [],
   "source": []
  }
 ],
 "metadata": {
  "kernelspec": {
   "display_name": "Python 3",
   "language": "python",
   "name": "python3"
  },
  "language_info": {
   "codemirror_mode": {
    "name": "ipython",
    "version": 3
   },
   "file_extension": ".py",
   "mimetype": "text/x-python",
   "name": "python",
   "nbconvert_exporter": "python",
   "pygments_lexer": "ipython3",
   "version": "3.5.2"
  }
 },
 "nbformat": 4,
 "nbformat_minor": 2
}
