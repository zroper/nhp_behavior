{
 "cells": [
  {
   "cell_type": "code",
   "execution_count": 21,
   "metadata": {},
   "outputs": [],
   "source": [
    "import os\n",
    "import numpy\n",
    "import csv"
   ]
  },
  {
   "cell_type": "code",
   "execution_count": 54,
   "metadata": {},
   "outputs": [],
   "source": [
    "with open('out.csv') as csvfile:\n",
    "    data = csv.reader(csvfile, delimiter = ',')\n",
    "    events = []\n",
    "    times = []\n",
    "    for row in data:\n",
    "        event = row[0]\n",
    "        events.append(event)\n",
    "        time = row[1]\n",
    "        times.append(time)"
   ]
  },
  {
   "cell_type": "code",
   "execution_count": 55,
   "metadata": {},
   "outputs": [
    {
     "name": "stdout",
     "output_type": "stream",
     "text": [
      "2651  11.0469\n",
      "0  11.0592\n",
      "2300  11.2435\n",
      "0  11.2558\n",
      "2810  28.8440\n",
      "0  28.8563\n",
      "888  29.0406\n",
      "0  29.0529\n",
      "2600  39.2438\n",
      "0  39.2561\n"
     ]
    }
   ],
   "source": [
    "for i in range(10):\n",
    "    print(events[i],times[i])"
   ]
  },
  {
   "cell_type": "code",
   "execution_count": 65,
   "metadata": {},
   "outputs": [],
   "source": [
    "TargetOnset = []\n",
    "Saccade = []\n",
    "for i, x in enumerate(events):\n",
    "    if x == '2651':\n",
    "        TargetOnset.append(i)\n",
    "    if x == '888':\n",
    "        Saccade.append(i)"
   ]
  },
  {
   "cell_type": "code",
   "execution_count": 67,
   "metadata": {},
   "outputs": [
    {
     "data": {
      "text/plain": [
       "1122"
      ]
     },
     "execution_count": 67,
     "metadata": {},
     "output_type": "execute_result"
    }
   ],
   "source": [
    "len(TargetOnset)"
   ]
  },
  {
   "cell_type": "code",
   "execution_count": 68,
   "metadata": {},
   "outputs": [
    {
     "data": {
      "text/plain": [
       "1097"
      ]
     },
     "execution_count": 68,
     "metadata": {},
     "output_type": "execute_result"
    }
   ],
   "source": [
    "len(Saccade)"
   ]
  },
  {
   "cell_type": "code",
   "execution_count": null,
   "metadata": {
    "collapsed": true
   },
   "outputs": [],
   "source": []
  }
 ],
 "metadata": {
  "kernelspec": {
   "display_name": "Python 3",
   "language": "python",
   "name": "python3"
  },
  "language_info": {
   "codemirror_mode": {
    "name": "ipython",
    "version": 3
   },
   "file_extension": ".py",
   "mimetype": "text/x-python",
   "name": "python",
   "nbconvert_exporter": "python",
   "pygments_lexer": "ipython3",
   "version": "3.5.2"
  }
 },
 "nbformat": 4,
 "nbformat_minor": 2
}
